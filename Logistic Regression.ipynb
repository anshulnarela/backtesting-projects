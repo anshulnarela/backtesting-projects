{
 "cells": [
  {
   "cell_type": "markdown",
   "id": "86faa189-7ed0-4bbe-89b5-f1b65aed8484",
   "metadata": {},
   "source": [
    "# Use Logistic regression to determine if the asset will give positive or negetive returns tomo\n",
    "\n",
    "1. Get data\n",
    "2. Preprocess the data i.e. Add Indicators or Features\n",
    "3. Perform Logistic Regression\n",
    "4. Improve the model\n"
   ]
  },
  {
   "cell_type": "code",
   "execution_count": 4,
   "id": "700ab10a-4bca-4672-8fef-a157e385abae",
   "metadata": {},
   "outputs": [],
   "source": [
    "import pandas as pd\n",
    "import numpy as np \n",
    "import matplotlib as plt\n",
    "import warnings \n",
    "warnings.filterwarnings('ignore')                     \n",
    "import datetime as dt\n",
    "import talib as ta\n",
    "from get_data import get_data"
   ]
  },
  {
   "cell_type": "code",
   "execution_count": 5,
   "id": "f776a4a0-596f-40f3-a7dc-e3a1340d0481",
   "metadata": {},
   "outputs": [
    {
     "name": "stdout",
     "output_type": "stream",
     "text": [
      "[*********************100%***********************]  1 of 1 completed\n"
     ]
    }
   ],
   "source": [
    "end= dt.date.today() ; start= end- pd.Timedelta(days= 256*10)\n",
    "\n",
    "df= get_data('MSFT', start, end)"
   ]
  },
  {
   "cell_type": "code",
   "execution_count": 6,
   "id": "22ab2d6f-dca8-41dd-925f-94e6f3fa06c8",
   "metadata": {},
   "outputs": [
    {
     "data": {
      "text/html": [
       "<div>\n",
       "<style scoped>\n",
       "    .dataframe tbody tr th:only-of-type {\n",
       "        vertical-align: middle;\n",
       "    }\n",
       "\n",
       "    .dataframe tbody tr th {\n",
       "        vertical-align: top;\n",
       "    }\n",
       "\n",
       "    .dataframe thead th {\n",
       "        text-align: right;\n",
       "    }\n",
       "</style>\n",
       "<table border=\"1\" class=\"dataframe\">\n",
       "  <thead>\n",
       "    <tr style=\"text-align: right;\">\n",
       "      <th></th>\n",
       "      <th>open</th>\n",
       "      <th>high</th>\n",
       "      <th>low</th>\n",
       "      <th>close</th>\n",
       "      <th>volume</th>\n",
       "    </tr>\n",
       "    <tr>\n",
       "      <th>Date</th>\n",
       "      <th></th>\n",
       "      <th></th>\n",
       "      <th></th>\n",
       "      <th></th>\n",
       "      <th></th>\n",
       "    </tr>\n",
       "  </thead>\n",
       "  <tbody>\n",
       "    <tr>\n",
       "      <th>2016-06-17</th>\n",
       "      <td>50.410000</td>\n",
       "      <td>50.430000</td>\n",
       "      <td>49.820000</td>\n",
       "      <td>45.370064</td>\n",
       "      <td>45710500</td>\n",
       "    </tr>\n",
       "    <tr>\n",
       "      <th>2016-06-20</th>\n",
       "      <td>50.639999</td>\n",
       "      <td>50.830002</td>\n",
       "      <td>50.029999</td>\n",
       "      <td>45.315746</td>\n",
       "      <td>35607900</td>\n",
       "    </tr>\n",
       "    <tr>\n",
       "      <th>2016-06-21</th>\n",
       "      <td>50.200001</td>\n",
       "      <td>51.430000</td>\n",
       "      <td>50.160000</td>\n",
       "      <td>46.329399</td>\n",
       "      <td>34097800</td>\n",
       "    </tr>\n",
       "    <tr>\n",
       "      <th>2016-06-22</th>\n",
       "      <td>51.080002</td>\n",
       "      <td>51.459999</td>\n",
       "      <td>50.950001</td>\n",
       "      <td>46.148407</td>\n",
       "      <td>28816800</td>\n",
       "    </tr>\n",
       "    <tr>\n",
       "      <th>2016-06-23</th>\n",
       "      <td>51.279999</td>\n",
       "      <td>52.060001</td>\n",
       "      <td>51.150002</td>\n",
       "      <td>46.981033</td>\n",
       "      <td>29028800</td>\n",
       "    </tr>\n",
       "  </tbody>\n",
       "</table>\n",
       "</div>"
      ],
      "text/plain": [
       "                 open       high        low      close    volume\n",
       "Date                                                            \n",
       "2016-06-17  50.410000  50.430000  49.820000  45.370064  45710500\n",
       "2016-06-20  50.639999  50.830002  50.029999  45.315746  35607900\n",
       "2016-06-21  50.200001  51.430000  50.160000  46.329399  34097800\n",
       "2016-06-22  51.080002  51.459999  50.950001  46.148407  28816800\n",
       "2016-06-23  51.279999  52.060001  51.150002  46.981033  29028800"
      ]
     },
     "execution_count": 6,
     "metadata": {},
     "output_type": "execute_result"
    }
   ],
   "source": [
    "df.head()"
   ]
  },
  {
   "cell_type": "code",
   "execution_count": 28,
   "id": "1e8e9f74-a31e-4772-a2a6-a3d475ab478e",
   "metadata": {},
   "outputs": [],
   "source": [
    "#creating Features for regression\n",
    "rsi_lb= 7\n",
    "adx_lb= 7\n",
    "ma_lb= 5\n",
    "\n",
    "df['rsi']= ta.RSI(df.close.shift(1), timeperiod= rsi_lb)\n",
    "df['adx']= ta.ADX(df.high.shift(1), df.low.shift(1),df.close.shift(1), timeperiod= adx_lb)\n",
    "df['ma']= df.close.shift(1).rolling(ma_lb).mean()\n",
    "df['corr']= df.close.shift(1).rolling(ma_lb).corr(df.ma.shift(1))\n",
    "\n",
    "\n",
    "#calculating returns\n",
    "\n",
    "df['cc_returns']= np.log(df.close/df.open)\n",
    "\n",
    "# Target Variable\n",
    "\n",
    "df['direction']= np.where(df.cc_returns >0 ,1, -1)"
   ]
  },
  {
   "cell_type": "code",
   "execution_count": 29,
   "id": "50ae8a03-d295-4e64-8725-ac1879ca809c",
   "metadata": {},
   "outputs": [
    {
     "data": {
      "text/html": [
       "<div>\n",
       "<style scoped>\n",
       "    .dataframe tbody tr th:only-of-type {\n",
       "        vertical-align: middle;\n",
       "    }\n",
       "\n",
       "    .dataframe tbody tr th {\n",
       "        vertical-align: top;\n",
       "    }\n",
       "\n",
       "    .dataframe thead th {\n",
       "        text-align: right;\n",
       "    }\n",
       "</style>\n",
       "<table border=\"1\" class=\"dataframe\">\n",
       "  <thead>\n",
       "    <tr style=\"text-align: right;\">\n",
       "      <th></th>\n",
       "      <th>open</th>\n",
       "      <th>high</th>\n",
       "      <th>low</th>\n",
       "      <th>close</th>\n",
       "      <th>volume</th>\n",
       "      <th>rsi</th>\n",
       "      <th>adx</th>\n",
       "      <th>ma</th>\n",
       "      <th>corr</th>\n",
       "      <th>cc_returns</th>\n",
       "      <th>direction</th>\n",
       "    </tr>\n",
       "    <tr>\n",
       "      <th>Date</th>\n",
       "      <th></th>\n",
       "      <th></th>\n",
       "      <th></th>\n",
       "      <th></th>\n",
       "      <th></th>\n",
       "      <th></th>\n",
       "      <th></th>\n",
       "      <th></th>\n",
       "      <th></th>\n",
       "      <th></th>\n",
       "      <th></th>\n",
       "    </tr>\n",
       "  </thead>\n",
       "  <tbody>\n",
       "    <tr>\n",
       "      <th>2016-07-08</th>\n",
       "      <td>51.730000</td>\n",
       "      <td>52.360001</td>\n",
       "      <td>51.549999</td>\n",
       "      <td>47.334011</td>\n",
       "      <td>28391000</td>\n",
       "      <td>NaN</td>\n",
       "      <td>NaN</td>\n",
       "      <td>NaN</td>\n",
       "      <td>NaN</td>\n",
       "      <td>-0.088809</td>\n",
       "      <td>-1</td>\n",
       "    </tr>\n",
       "    <tr>\n",
       "      <th>2016-07-11</th>\n",
       "      <td>52.500000</td>\n",
       "      <td>52.830002</td>\n",
       "      <td>52.470001</td>\n",
       "      <td>47.596489</td>\n",
       "      <td>22269200</td>\n",
       "      <td>NaN</td>\n",
       "      <td>NaN</td>\n",
       "      <td>NaN</td>\n",
       "      <td>NaN</td>\n",
       "      <td>-0.098054</td>\n",
       "      <td>-1</td>\n",
       "    </tr>\n",
       "    <tr>\n",
       "      <th>2016-07-12</th>\n",
       "      <td>52.939999</td>\n",
       "      <td>53.400002</td>\n",
       "      <td>52.790001</td>\n",
       "      <td>48.157608</td>\n",
       "      <td>27317600</td>\n",
       "      <td>NaN</td>\n",
       "      <td>NaN</td>\n",
       "      <td>NaN</td>\n",
       "      <td>NaN</td>\n",
       "      <td>-0.094680</td>\n",
       "      <td>-1</td>\n",
       "    </tr>\n",
       "    <tr>\n",
       "      <th>2016-07-13</th>\n",
       "      <td>53.560001</td>\n",
       "      <td>53.860001</td>\n",
       "      <td>53.180000</td>\n",
       "      <td>48.429123</td>\n",
       "      <td>25356800</td>\n",
       "      <td>NaN</td>\n",
       "      <td>NaN</td>\n",
       "      <td>NaN</td>\n",
       "      <td>NaN</td>\n",
       "      <td>-0.100701</td>\n",
       "      <td>-1</td>\n",
       "    </tr>\n",
       "    <tr>\n",
       "      <th>2016-07-14</th>\n",
       "      <td>53.840000</td>\n",
       "      <td>53.990002</td>\n",
       "      <td>53.580002</td>\n",
       "      <td>48.637283</td>\n",
       "      <td>24545500</td>\n",
       "      <td>NaN</td>\n",
       "      <td>NaN</td>\n",
       "      <td>NaN</td>\n",
       "      <td>NaN</td>\n",
       "      <td>-0.101626</td>\n",
       "      <td>-1</td>\n",
       "    </tr>\n",
       "  </tbody>\n",
       "</table>\n",
       "</div>"
      ],
      "text/plain": [
       "                 open       high        low      close    volume  rsi  adx  \\\n",
       "Date                                                                         \n",
       "2016-07-08  51.730000  52.360001  51.549999  47.334011  28391000  NaN  NaN   \n",
       "2016-07-11  52.500000  52.830002  52.470001  47.596489  22269200  NaN  NaN   \n",
       "2016-07-12  52.939999  53.400002  52.790001  48.157608  27317600  NaN  NaN   \n",
       "2016-07-13  53.560001  53.860001  53.180000  48.429123  25356800  NaN  NaN   \n",
       "2016-07-14  53.840000  53.990002  53.580002  48.637283  24545500  NaN  NaN   \n",
       "\n",
       "            ma  corr  cc_returns  direction  \n",
       "Date                                         \n",
       "2016-07-08 NaN   NaN   -0.088809         -1  \n",
       "2016-07-11 NaN   NaN   -0.098054         -1  \n",
       "2016-07-12 NaN   NaN   -0.094680         -1  \n",
       "2016-07-13 NaN   NaN   -0.100701         -1  \n",
       "2016-07-14 NaN   NaN   -0.101626         -1  "
      ]
     },
     "execution_count": 29,
     "metadata": {},
     "output_type": "execute_result"
    }
   ],
   "source": [
    "df.head()"
   ]
  },
  {
   "cell_type": "code",
   "execution_count": 30,
   "id": "d5a5f554-cc88-44bc-ab4e-1be2d38d000c",
   "metadata": {},
   "outputs": [],
   "source": [
    "df.dropna(inplace=True) #Dropping all the NAN values"
   ]
  },
  {
   "cell_type": "code",
   "execution_count": 31,
   "id": "3bb24d2b-2680-4570-b433-edd0dafd257c",
   "metadata": {},
   "outputs": [
    {
     "data": {
      "text/plain": [
       "open          0\n",
       "high          0\n",
       "low           0\n",
       "close         0\n",
       "volume        0\n",
       "rsi           0\n",
       "adx           0\n",
       "ma            0\n",
       "corr          0\n",
       "cc_returns    0\n",
       "direction     0\n",
       "dtype: int64"
      ]
     },
     "execution_count": 31,
     "metadata": {},
     "output_type": "execute_result"
    }
   ],
   "source": [
    "df.isna().sum() #confirming there is no NAN value"
   ]
  },
  {
   "cell_type": "code",
   "execution_count": 32,
   "id": "8e44b4db-888a-4281-9c1c-3c7089b5be23",
   "metadata": {},
   "outputs": [],
   "source": [
    "from sklearn.model_selection import TimeSeriesSplit, GridSearchCV, cross_val_score, train_test_split\n",
    "from sklearn.linear_model import LogisticRegression\n",
    "from sklearn.pipeline import Pipeline\n",
    "from sklearn.preprocessing import StandardScaler"
   ]
  },
  {
   "cell_type": "code",
   "execution_count": 33,
   "id": "08be6721-6a97-4a94-adfd-2a2ec4250d13",
   "metadata": {},
   "outputs": [],
   "source": [
    "X= df[['rsi','adx','ma','corr']] # Creating Feature set\n",
    "y= df['direction']  #Creating Target"
   ]
  },
  {
   "cell_type": "code",
   "execution_count": 34,
   "id": "f6b1ada3-03c2-4329-9722-e7d03c8d4650",
   "metadata": {},
   "outputs": [],
   "source": [
    "X_train,X_test, y_train, y_test= train_test_split(X,y,test_size= .2,random_state=15) # Splitting the data into train and test set"
   ]
  },
  {
   "cell_type": "code",
   "execution_count": 35,
   "id": "ffd776b3-e6d0-45ba-b56e-f60817433a3d",
   "metadata": {},
   "outputs": [],
   "source": [
    "steps= [('scaler',StandardScaler()),('logreg',LogisticRegression())] # defining steps to be used in pipeline\n",
    "pipeline= Pipeline(steps) #initializing the pipeline"
   ]
  },
  {
   "cell_type": "code",
   "execution_count": 36,
   "id": "c3d1b7ac-91f8-4b9b-aa91-3d07640d683b",
   "metadata": {},
   "outputs": [],
   "source": [
    "# Define the hyperparameter search space\n",
    "parameters = {\n",
    "    'logreg__C': [0.1, 1.0, 10.0],\n",
    "    'logreg__penalty': ['l1', 'l2'],\n",
    "    'logreg__solver': ['liblinear', 'lbfgs', 'saga']\n",
    "}"
   ]
  },
  {
   "cell_type": "code",
   "execution_count": 37,
   "id": "2e6bbdc0-c48d-4912-a769-3e82ec10e354",
   "metadata": {},
   "outputs": [],
   "source": [
    "model= GridSearchCV(pipeline, parameters, cv= TimeSeriesSplit(n_splits=5)) # Initialize the model"
   ]
  },
  {
   "cell_type": "code",
   "execution_count": 38,
   "id": "8e858354-7d19-433c-b745-0458407b8900",
   "metadata": {},
   "outputs": [
    {
     "data": {
      "text/plain": [
       "GridSearchCV(cv=TimeSeriesSplit(gap=0, max_train_size=None, n_splits=5, test_size=None),\n",
       "             estimator=Pipeline(steps=[('scaler', StandardScaler()),\n",
       "                                       ('logreg', LogisticRegression())]),\n",
       "             param_grid={'logreg__C': [0.1, 1.0, 10.0],\n",
       "                         'logreg__penalty': ['l1', 'l2'],\n",
       "                         'logreg__solver': ['liblinear', 'lbfgs', 'saga']})"
      ]
     },
     "execution_count": 38,
     "metadata": {},
     "output_type": "execute_result"
    }
   ],
   "source": [
    "model.fit(X_train,y_train) #Fit the training data into the model"
   ]
  },
  {
   "cell_type": "code",
   "execution_count": 39,
   "id": "911c213b-00ae-4399-b4b8-689a7eb89ee1",
   "metadata": {},
   "outputs": [
    {
     "name": "stdout",
     "output_type": "stream",
     "text": [
      "{'logreg__C': 0.1, 'logreg__penalty': 'l1', 'logreg__solver': 'liblinear'}\n"
     ]
    }
   ],
   "source": [
    "hyperparameters= model.best_params_ # out of all the hyperparameters check which parameters were best\n",
    "print(hyperparameters)"
   ]
  },
  {
   "cell_type": "code",
   "execution_count": 40,
   "id": "d58a6146-b7cc-4727-a37f-5b74fabe8b43",
   "metadata": {},
   "outputs": [
    {
     "data": {
      "text/plain": [
       "0.9090909090909092"
      ]
     },
     "execution_count": 40,
     "metadata": {},
     "output_type": "execute_result"
    }
   ],
   "source": [
    "model.best_score_ #best score is the average accuracy the model was able to achive on training data"
   ]
  },
  {
   "cell_type": "code",
   "execution_count": 41,
   "id": "610ea96e-ebef-439b-ad6d-8b36f03de3bb",
   "metadata": {},
   "outputs": [],
   "source": [
    "final_model= LogisticRegression(C= hyperparameters['logreg__C'],  penalty= hyperparameters['logreg__penalty'], solver= hyperparameters['logreg__solver']) \n",
    "#now we make the final model with the best hypermaters we found"
   ]
  },
  {
   "cell_type": "code",
   "execution_count": 42,
   "id": "54568eec-d49d-4e1e-98a0-7a2014d3deff",
   "metadata": {},
   "outputs": [
    {
     "data": {
      "text/plain": [
       "LogisticRegression(C=0.1, penalty='l1', solver='liblinear')"
      ]
     },
     "execution_count": 42,
     "metadata": {},
     "output_type": "execute_result"
    }
   ],
   "source": [
    "final_model.fit(X_train,y_train) # fitting the training data into the model"
   ]
  },
  {
   "cell_type": "code",
   "execution_count": 43,
   "id": "d81ee99b-4b99-4ffb-a769-6e41a46a6e8e",
   "metadata": {},
   "outputs": [],
   "source": [
    "y_pred=final_model.predict(X_test) # predicting the market direction using the test features and storing the results ina vsriable for comparision"
   ]
  },
  {
   "cell_type": "code",
   "execution_count": 44,
   "id": "bad98549-3c73-45b6-b5ef-f3a13792ba87",
   "metadata": {},
   "outputs": [],
   "source": [
    "from sklearn.metrics import accuracy_score, confusion_matrix, plot_confusion_matrix, roc_curve, roc_auc_score"
   ]
  },
  {
   "cell_type": "code",
   "execution_count": 45,
   "id": "e84fc86d-3a65-4eb4-ac8c-8f97769a291c",
   "metadata": {},
   "outputs": [
    {
     "name": "stdout",
     "output_type": "stream",
     "text": [
      "0.8904899135446686\n"
     ]
    }
   ],
   "source": [
    "accuracy= accuracy_score(y_test, y_pred) #checking the accuracy of test target and predicted values\n",
    "print(accuracy)"
   ]
  },
  {
   "cell_type": "code",
   "execution_count": 46,
   "id": "8ea428ab-faeb-466e-a700-abc963fb1d02",
   "metadata": {},
   "outputs": [
    {
     "data": {
      "text/plain": [
       "<sklearn.metrics._plot.confusion_matrix.ConfusionMatrixDisplay at 0x28c071e9280>"
      ]
     },
     "execution_count": 46,
     "metadata": {},
     "output_type": "execute_result"
    },
    {
     "data": {
      "image/png": "[encoded data removed]",
      "text/plain": [
       "<Figure size 432x288 with 2 Axes>"
      ]
     },
     "metadata": {
      "needs_background": "light"
     },
     "output_type": "display_data"
    }
   ],
   "source": [
    "plot_confusion_matrix(final_model,X_test,y_test) #plotting the confusion matrix"
   ]
  },
  {
   "cell_type": "code",
   "execution_count": 47,
   "id": "3a126905-bb4a-4e7a-b75c-c031d51ba7fb",
   "metadata": {},
   "outputs": [
    {
     "data": {
      "text/html": [
       "<div>\n",
       "<style scoped>\n",
       "    .dataframe tbody tr th:only-of-type {\n",
       "        vertical-align: middle;\n",
       "    }\n",
       "\n",
       "    .dataframe tbody tr th {\n",
       "        vertical-align: top;\n",
       "    }\n",
       "\n",
       "    .dataframe thead th {\n",
       "        text-align: right;\n",
       "    }\n",
       "</style>\n",
       "<table border=\"1\" class=\"dataframe\">\n",
       "  <thead>\n",
       "    <tr style=\"text-align: right;\">\n",
       "      <th></th>\n",
       "      <th>open</th>\n",
       "      <th>high</th>\n",
       "      <th>low</th>\n",
       "      <th>close</th>\n",
       "      <th>volume</th>\n",
       "      <th>rsi</th>\n",
       "      <th>adx</th>\n",
       "      <th>ma</th>\n",
       "      <th>corr</th>\n",
       "      <th>cc_returns</th>\n",
       "      <th>direction</th>\n",
       "    </tr>\n",
       "    <tr>\n",
       "      <th>Date</th>\n",
       "      <th></th>\n",
       "      <th></th>\n",
       "      <th></th>\n",
       "      <th></th>\n",
       "      <th></th>\n",
       "      <th></th>\n",
       "      <th></th>\n",
       "      <th></th>\n",
       "      <th></th>\n",
       "      <th></th>\n",
       "      <th></th>\n",
       "    </tr>\n",
       "  </thead>\n",
       "  <tbody>\n",
       "    <tr>\n",
       "      <th>2016-07-28</th>\n",
       "      <td>56.000000</td>\n",
       "      <td>56.369999</td>\n",
       "      <td>55.720001</td>\n",
       "      <td>50.872749</td>\n",
       "      <td>37550400</td>\n",
       "      <td>72.472357</td>\n",
       "      <td>63.647301</td>\n",
       "      <td>51.053763</td>\n",
       "      <td>0.284445</td>\n",
       "      <td>-0.096024</td>\n",
       "      <td>-1</td>\n",
       "    </tr>\n",
       "    <tr>\n",
       "      <th>2016-07-29</th>\n",
       "      <td>56.259998</td>\n",
       "      <td>56.759998</td>\n",
       "      <td>56.049999</td>\n",
       "      <td>51.298119</td>\n",
       "      <td>30558700</td>\n",
       "      <td>72.649721</td>\n",
       "      <td>60.209695</td>\n",
       "      <td>51.127975</td>\n",
       "      <td>-0.726706</td>\n",
       "      <td>-0.092330</td>\n",
       "      <td>-1</td>\n",
       "    </tr>\n",
       "    <tr>\n",
       "      <th>2016-08-01</th>\n",
       "      <td>56.599998</td>\n",
       "      <td>56.750000</td>\n",
       "      <td>56.139999</td>\n",
       "      <td>51.207630</td>\n",
       "      <td>26003400</td>\n",
       "      <td>76.756540</td>\n",
       "      <td>58.261009</td>\n",
       "      <td>51.147884</td>\n",
       "      <td>-0.630904</td>\n",
       "      <td>-0.100120</td>\n",
       "      <td>-1</td>\n",
       "    </tr>\n",
       "    <tr>\n",
       "      <th>2016-08-02</th>\n",
       "      <td>56.849998</td>\n",
       "      <td>56.900002</td>\n",
       "      <td>56.310001</td>\n",
       "      <td>51.207630</td>\n",
       "      <td>35122000</td>\n",
       "      <td>73.998868</td>\n",
       "      <td>56.590707</td>\n",
       "      <td>51.120735</td>\n",
       "      <td>-0.440021</td>\n",
       "      <td>-0.104528</td>\n",
       "      <td>-1</td>\n",
       "    </tr>\n",
       "    <tr>\n",
       "      <th>2016-08-03</th>\n",
       "      <td>56.680000</td>\n",
       "      <td>57.110001</td>\n",
       "      <td>56.490002</td>\n",
       "      <td>51.560596</td>\n",
       "      <td>22075600</td>\n",
       "      <td>73.998868</td>\n",
       "      <td>55.594637</td>\n",
       "      <td>51.088156</td>\n",
       "      <td>0.926890</td>\n",
       "      <td>-0.094664</td>\n",
       "      <td>-1</td>\n",
       "    </tr>\n",
       "    <tr>\n",
       "      <th>...</th>\n",
       "      <td>...</td>\n",
       "      <td>...</td>\n",
       "      <td>...</td>\n",
       "      <td>...</td>\n",
       "      <td>...</td>\n",
       "      <td>...</td>\n",
       "      <td>...</td>\n",
       "      <td>...</td>\n",
       "      <td>...</td>\n",
       "      <td>...</td>\n",
       "      <td>...</td>\n",
       "    </tr>\n",
       "    <tr>\n",
       "      <th>2023-06-13</th>\n",
       "      <td>334.470001</td>\n",
       "      <td>336.980011</td>\n",
       "      <td>330.390015</td>\n",
       "      <td>334.290009</td>\n",
       "      <td>22951300</td>\n",
       "      <td>60.615430</td>\n",
       "      <td>30.706992</td>\n",
       "      <td>328.192004</td>\n",
       "      <td>-0.389048</td>\n",
       "      <td>-0.000538</td>\n",
       "      <td>-1</td>\n",
       "    </tr>\n",
       "    <tr>\n",
       "      <th>2023-06-14</th>\n",
       "      <td>334.339996</td>\n",
       "      <td>339.040009</td>\n",
       "      <td>332.809998</td>\n",
       "      <td>337.339996</td>\n",
       "      <td>26003800</td>\n",
       "      <td>64.463148</td>\n",
       "      <td>30.343308</td>\n",
       "      <td>328.314008</td>\n",
       "      <td>-0.984094</td>\n",
       "      <td>0.008933</td>\n",
       "      <td>1</td>\n",
       "    </tr>\n",
       "    <tr>\n",
       "      <th>2023-06-15</th>\n",
       "      <td>337.480011</td>\n",
       "      <td>349.839996</td>\n",
       "      <td>337.200012</td>\n",
       "      <td>348.100006</td>\n",
       "      <td>38899100</td>\n",
       "      <td>68.894793</td>\n",
       "      <td>30.954502</td>\n",
       "      <td>331.106006</td>\n",
       "      <td>-0.942971</td>\n",
       "      <td>0.030984</td>\n",
       "      <td>1</td>\n",
       "    </tr>\n",
       "    <tr>\n",
       "      <th>2023-06-16</th>\n",
       "      <td>351.320007</td>\n",
       "      <td>351.470001</td>\n",
       "      <td>341.950012</td>\n",
       "      <td>342.329987</td>\n",
       "      <td>46533600</td>\n",
       "      <td>79.445061</td>\n",
       "      <td>34.792715</td>\n",
       "      <td>335.674005</td>\n",
       "      <td>0.247072</td>\n",
       "      <td>-0.025922</td>\n",
       "      <td>-1</td>\n",
       "    </tr>\n",
       "    <tr>\n",
       "      <th>2023-06-20</th>\n",
       "      <td>339.309998</td>\n",
       "      <td>342.079987</td>\n",
       "      <td>335.859985</td>\n",
       "      <td>338.049988</td>\n",
       "      <td>26351400</td>\n",
       "      <td>65.538010</td>\n",
       "      <td>38.436965</td>\n",
       "      <td>338.782001</td>\n",
       "      <td>0.584768</td>\n",
       "      <td>-0.003720</td>\n",
       "      <td>-1</td>\n",
       "    </tr>\n",
       "  </tbody>\n",
       "</table>\n",
       "<p>1735 rows × 11 columns</p>\n",
       "</div>"
      ],
      "text/plain": [
       "                  open        high         low       close    volume  \\\n",
       "Date                                                                   \n",
       "2016-07-28   56.000000   56.369999   55.720001   50.872749  37550400   \n",
       "2016-07-29   56.259998   56.759998   56.049999   51.298119  30558700   \n",
       "2016-08-01   56.599998   56.750000   56.139999   51.207630  26003400   \n",
       "2016-08-02   56.849998   56.900002   56.310001   51.207630  35122000   \n",
       "2016-08-03   56.680000   57.110001   56.490002   51.560596  22075600   \n",
       "...                ...         ...         ...         ...       ...   \n",
       "2023-06-13  334.470001  336.980011  330.390015  334.290009  22951300   \n",
       "2023-06-14  334.339996  339.040009  332.809998  337.339996  26003800   \n",
       "2023-06-15  337.480011  349.839996  337.200012  348.100006  38899100   \n",
       "2023-06-16  351.320007  351.470001  341.950012  342.329987  46533600   \n",
       "2023-06-20  339.309998  342.079987  335.859985  338.049988  26351400   \n",
       "\n",
       "                  rsi        adx          ma      corr  cc_returns  direction  \n",
       "Date                                                                           \n",
       "2016-07-28  72.472357  63.647301   51.053763  0.284445   -0.096024         -1  \n",
       "2016-07-29  72.649721  60.209695   51.127975 -0.726706   -0.092330         -1  \n",
       "2016-08-01  76.756540  58.261009   51.147884 -0.630904   -0.100120         -1  \n",
       "2016-08-02  73.998868  56.590707   51.120735 -0.440021   -0.104528         -1  \n",
       "2016-08-03  73.998868  55.594637   51.088156  0.926890   -0.094664         -1  \n",
       "...               ...        ...         ...       ...         ...        ...  \n",
       "2023-06-13  60.615430  30.706992  328.192004 -0.389048   -0.000538         -1  \n",
       "2023-06-14  64.463148  30.343308  328.314008 -0.984094    0.008933          1  \n",
       "2023-06-15  68.894793  30.954502  331.106006 -0.942971    0.030984          1  \n",
       "2023-06-16  79.445061  34.792715  335.674005  0.247072   -0.025922         -1  \n",
       "2023-06-20  65.538010  38.436965  338.782001  0.584768   -0.003720         -1  \n",
       "\n",
       "[1735 rows x 11 columns]"
      ]
     },
     "execution_count": 47,
     "metadata": {},
     "output_type": "execute_result"
    }
   ],
   "source": [
    "df"
   ]
  },
  {
   "cell_type": "code",
   "execution_count": 48,
   "id": "f5f0f226-77db-4190-946e-eda3968b3dee",
   "metadata": {},
   "outputs": [
    {
     "data": {
      "text/plain": [
       "-1    1576\n",
       " 1     159\n",
       "Name: direction, dtype: int64"
      ]
     },
     "execution_count": 48,
     "metadata": {},
     "output_type": "execute_result"
    }
   ],
   "source": [
    "df.direction.value_counts()"
   ]
  },
  {
   "cell_type": "code",
   "execution_count": 49,
   "id": "8ce70873-46ee-41c4-845c-7d6f74f4b7d5",
   "metadata": {},
   "outputs": [
    {
     "data": {
      "text/plain": [
       "-1    309\n",
       " 1     38\n",
       "Name: direction, dtype: int64"
      ]
     },
     "execution_count": 49,
     "metadata": {},
     "output_type": "execute_result"
    }
   ],
   "source": [
    "y_test.value_counts()"
   ]
  },
  {
   "cell_type": "code",
   "execution_count": 194,
   "id": "2b690228-d074-4223-837a-4f3257dd47fb",
   "metadata": {},
   "outputs": [
    {
     "data": {
      "text/plain": [
       "<AxesSubplot:xlabel='Date'>"
      ]
     },
     "execution_count": 194,
     "metadata": {},
     "output_type": "execute_result"
    },
    {
     "data": {
      "image/png": "[encoded data removed]",
      "text/plain": [
       "<Figure size 1080x648 with 1 Axes>"
      ]
     },
     "metadata": {
      "needs_background": "light"
     },
     "output_type": "display_data"
    }
   ],
   "source": [
    "df.cc_returns.plot(figsize=(15,9), grid=True)"
   ]
  },
  {
   "cell_type": "code",
   "execution_count": null,
   "id": "04761351-b651-4861-be2c-380a85d45213",
   "metadata": {},
   "outputs": [],
   "source": []
  }
 ],
 "metadata": {
  "kernelspec": {
   "display_name": "Python 3 (ipykernel)",
   "language": "python",
   "name": "python3"
  },
  "language_info": {
   "codemirror_mode": {
    "name": "ipython",
    "version": 3
   },
   "file_extension": ".py",
   "mimetype": "text/x-python",
   "name": "python",
   "nbconvert_exporter": "python",
   "pygments_lexer": "ipython3",
   "version": "3.9.12"
  }
 },
 "nbformat": 4,
 "nbformat_minor": 5
}
