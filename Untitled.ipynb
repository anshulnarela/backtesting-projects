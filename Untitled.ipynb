{
 "cells": [
  {
   "cell_type": "markdown",
   "id": "86faa189-7ed0-4bbe-89b5-f1b65aed8484",
   "metadata": {},
   "source": [
    "## Project 1\n",
    "\n",
    "We will create a program that will determine weather the market will give positive or negetive returns next day.\n",
    "\n",
    "1. Get data\n",
    "2. Preprocess the data i.e. Add Indicators or Features\n",
    "3. Perform Logistic Regression\n",
    "4. Improve the model\n"
   ]
  },
  {
   "cell_type": "code",
   "execution_count": 1,
   "id": "c9e62601-4da7-41ea-a97b-5c47990ea8e7",
   "metadata": {},
   "outputs": [],
   "source": [
    "import pandas as pd\n",
    "import numpy as np \n",
    "import matplotlib as plt\n",
    "import warnings \n",
    "warnings.filterwarnings('ignore')                     \n",
    "import datetime as dt"
   ]
  },
  {
   "cell_type": "code",
   "execution_count": 5,
   "id": "d50cb3eb-d136-4f5c-b09f-8c16b228cbe7",
   "metadata": {},
   "outputs": [],
   "source": [
    "import talib as ta"
   ]
  },
  {
   "cell_type": "code",
   "execution_count": 2,
   "id": "593325f2-d436-4c8f-ab18-e5ce2bedb84e",
   "metadata": {},
   "outputs": [],
   "source": [
    "def get_data(ticker,start,end,interval=None):\n",
    "    import yfinance as yf\n",
    "    \n",
    "    if interval:\n",
    "        df= yf.download(ticker,start,end,interval= interval)\n",
    "        \n",
    "    else:\n",
    "        df= yf.download(ticker,start,end)\n",
    "        \n",
    "    df.drop(columns=['Close'], inplace=True)\n",
    "    df.rename(columns={'Adj Close':'close'}, inplace=True)\n",
    "    df.columns= df.columns.str.lower()\n",
    "    \n",
    "    return df"
   ]
  },
  {
   "cell_type": "markdown",
   "id": "de5d34e3-80d9-4dd7-a2bc-00cbf9b0034d",
   "metadata": {},
   "source": [
    "1. Download data for a stock\n",
    "2. Add indicators such as RSI, ADX, MA, EMA\n",
    "3. Calculate returns and assign direction"
   ]
  },
  {
   "cell_type": "code",
   "execution_count": 168,
   "id": "f776a4a0-596f-40f3-a7dc-e3a1340d0481",
   "metadata": {},
   "outputs": [],
   "source": [
    "# end= dt.date.today() ; start= end- pd.Timedelta(days= 256*10)\n",
    "\n",
    "# sbi= get_data('SBIN.NS', start, end)\n",
    "\n",
    "sbi= pd.read_csv('GLENMARK.NS.csv', index_col=0)"
   ]
  },
  {
   "cell_type": "code",
   "execution_count": 171,
   "id": "22ab2d6f-dca8-41dd-925f-94e6f3fa06c8",
   "metadata": {},
   "outputs": [
    {
     "data": {
      "text/html": [
       "<div>\n",
       "<style scoped>\n",
       "    .dataframe tbody tr th:only-of-type {\n",
       "        vertical-align: middle;\n",
       "    }\n",
       "\n",
       "    .dataframe tbody tr th {\n",
       "        vertical-align: top;\n",
       "    }\n",
       "\n",
       "    .dataframe thead th {\n",
       "        text-align: right;\n",
       "    }\n",
       "</style>\n",
       "<table border=\"1\" class=\"dataframe\">\n",
       "  <thead>\n",
       "    <tr style=\"text-align: right;\">\n",
       "      <th></th>\n",
       "      <th>open</th>\n",
       "      <th>high</th>\n",
       "      <th>low</th>\n",
       "      <th>close</th>\n",
       "      <th>volume</th>\n",
       "    </tr>\n",
       "    <tr>\n",
       "      <th>Date</th>\n",
       "      <th></th>\n",
       "      <th></th>\n",
       "      <th></th>\n",
       "      <th></th>\n",
       "      <th></th>\n",
       "    </tr>\n",
       "  </thead>\n",
       "  <tbody>\n",
       "    <tr>\n",
       "      <th>2005-07-01</th>\n",
       "      <td>66.875000</td>\n",
       "      <td>71.750000</td>\n",
       "      <td>66.875000</td>\n",
       "      <td>67.666206</td>\n",
       "      <td>1596814</td>\n",
       "    </tr>\n",
       "    <tr>\n",
       "      <th>2005-07-04</th>\n",
       "      <td>71.000000</td>\n",
       "      <td>72.974998</td>\n",
       "      <td>71.000000</td>\n",
       "      <td>69.345947</td>\n",
       "      <td>999094</td>\n",
       "    </tr>\n",
       "    <tr>\n",
       "      <th>2005-07-05</th>\n",
       "      <td>73.125000</td>\n",
       "      <td>74.974998</td>\n",
       "      <td>71.550003</td>\n",
       "      <td>69.071945</td>\n",
       "      <td>1425164</td>\n",
       "    </tr>\n",
       "    <tr>\n",
       "      <th>2005-07-06</th>\n",
       "      <td>73.175003</td>\n",
       "      <td>73.875000</td>\n",
       "      <td>72.425003</td>\n",
       "      <td>69.834396</td>\n",
       "      <td>522226</td>\n",
       "    </tr>\n",
       "    <tr>\n",
       "      <th>2005-07-07</th>\n",
       "      <td>73.150002</td>\n",
       "      <td>75.250000</td>\n",
       "      <td>71.025002</td>\n",
       "      <td>68.678818</td>\n",
       "      <td>1599086</td>\n",
       "    </tr>\n",
       "  </tbody>\n",
       "</table>\n",
       "</div>"
      ],
      "text/plain": [
       "                 open       high        low      close   volume\n",
       "Date                                                           \n",
       "2005-07-01  66.875000  71.750000  66.875000  67.666206  1596814\n",
       "2005-07-04  71.000000  72.974998  71.000000  69.345947   999094\n",
       "2005-07-05  73.125000  74.974998  71.550003  69.071945  1425164\n",
       "2005-07-06  73.175003  73.875000  72.425003  69.834396   522226\n",
       "2005-07-07  73.150002  75.250000  71.025002  68.678818  1599086"
      ]
     },
     "execution_count": 171,
     "metadata": {},
     "output_type": "execute_result"
    }
   ],
   "source": [
    "sbi.head()"
   ]
  },
  {
   "cell_type": "code",
   "execution_count": 170,
   "id": "8d670569-cc0f-4fcf-a383-c2290243dcf2",
   "metadata": {},
   "outputs": [],
   "source": [
    "sbi.drop(columns=['Close'], inplace=True)\n",
    "sbi.rename(columns={'Adj Close':'close'}, inplace=True)\n",
    "sbi.columns= sbi.columns.str.lower()"
   ]
  },
  {
   "cell_type": "code",
   "execution_count": 172,
   "id": "71bc01fe-f1a7-4bb4-be86-6f24f91bf3e5",
   "metadata": {},
   "outputs": [
    {
     "data": {
      "text/plain": [
       "(3683, 5)"
      ]
     },
     "execution_count": 172,
     "metadata": {},
     "output_type": "execute_result"
    }
   ],
   "source": [
    "sbi.shape"
   ]
  },
  {
   "cell_type": "code",
   "execution_count": 173,
   "id": "1e8e9f74-a31e-4772-a2a6-a3d475ab478e",
   "metadata": {},
   "outputs": [],
   "source": [
    "#creating Features for regression\n",
    "rsi_lb= 7\n",
    "adx_lb= 7\n",
    "ma_lb= 5\n",
    "\n",
    "sbi['rsi']= ta.RSI(sbi.close.shift(1), timeperiod= rsi_lb)\n",
    "sbi['adx']= ta.ADX(sbi.high.shift(1), sbi.low.shift(1),sbi.close.shift(1), timeperiod= adx_lb)\n",
    "sbi['ma']= sbi.close.shift(1).rolling(ma_lb).mean()\n",
    "sbi['corr']= sbi.close.shift(1).rolling(ma_lb).corr(sbi.ma.shift(1))\n",
    "\n",
    "\n",
    "#calculating returns\n",
    "\n",
    "sbi['cc_returns']= (sbi.close-sbi.open)/sbi.close\n",
    "\n",
    "# Target Variable\n",
    "\n",
    "sbi['direction']= np.where(sbi.cc_returns >0 ,1, -1)"
   ]
  },
  {
   "cell_type": "code",
   "execution_count": 174,
   "id": "50ae8a03-d295-4e64-8725-ac1879ca809c",
   "metadata": {},
   "outputs": [
    {
     "data": {
      "text/html": [
       "<div>\n",
       "<style scoped>\n",
       "    .dataframe tbody tr th:only-of-type {\n",
       "        vertical-align: middle;\n",
       "    }\n",
       "\n",
       "    .dataframe tbody tr th {\n",
       "        vertical-align: top;\n",
       "    }\n",
       "\n",
       "    .dataframe thead th {\n",
       "        text-align: right;\n",
       "    }\n",
       "</style>\n",
       "<table border=\"1\" class=\"dataframe\">\n",
       "  <thead>\n",
       "    <tr style=\"text-align: right;\">\n",
       "      <th></th>\n",
       "      <th>open</th>\n",
       "      <th>high</th>\n",
       "      <th>low</th>\n",
       "      <th>close</th>\n",
       "      <th>volume</th>\n",
       "      <th>rsi</th>\n",
       "      <th>adx</th>\n",
       "      <th>ma</th>\n",
       "      <th>corr</th>\n",
       "      <th>cc_returns</th>\n",
       "      <th>direction</th>\n",
       "    </tr>\n",
       "    <tr>\n",
       "      <th>Date</th>\n",
       "      <th></th>\n",
       "      <th></th>\n",
       "      <th></th>\n",
       "      <th></th>\n",
       "      <th></th>\n",
       "      <th></th>\n",
       "      <th></th>\n",
       "      <th></th>\n",
       "      <th></th>\n",
       "      <th></th>\n",
       "      <th></th>\n",
       "    </tr>\n",
       "  </thead>\n",
       "  <tbody>\n",
       "    <tr>\n",
       "      <th>2005-07-01</th>\n",
       "      <td>66.875000</td>\n",
       "      <td>71.750000</td>\n",
       "      <td>66.875000</td>\n",
       "      <td>67.666206</td>\n",
       "      <td>1596814</td>\n",
       "      <td>NaN</td>\n",
       "      <td>NaN</td>\n",
       "      <td>NaN</td>\n",
       "      <td>NaN</td>\n",
       "      <td>0.011693</td>\n",
       "      <td>1</td>\n",
       "    </tr>\n",
       "    <tr>\n",
       "      <th>2005-07-04</th>\n",
       "      <td>71.000000</td>\n",
       "      <td>72.974998</td>\n",
       "      <td>71.000000</td>\n",
       "      <td>69.345947</td>\n",
       "      <td>999094</td>\n",
       "      <td>NaN</td>\n",
       "      <td>NaN</td>\n",
       "      <td>NaN</td>\n",
       "      <td>NaN</td>\n",
       "      <td>-0.023852</td>\n",
       "      <td>-1</td>\n",
       "    </tr>\n",
       "    <tr>\n",
       "      <th>2005-07-05</th>\n",
       "      <td>73.125000</td>\n",
       "      <td>74.974998</td>\n",
       "      <td>71.550003</td>\n",
       "      <td>69.071945</td>\n",
       "      <td>1425164</td>\n",
       "      <td>NaN</td>\n",
       "      <td>NaN</td>\n",
       "      <td>NaN</td>\n",
       "      <td>NaN</td>\n",
       "      <td>-0.058679</td>\n",
       "      <td>-1</td>\n",
       "    </tr>\n",
       "    <tr>\n",
       "      <th>2005-07-06</th>\n",
       "      <td>73.175003</td>\n",
       "      <td>73.875000</td>\n",
       "      <td>72.425003</td>\n",
       "      <td>69.834396</td>\n",
       "      <td>522226</td>\n",
       "      <td>NaN</td>\n",
       "      <td>NaN</td>\n",
       "      <td>NaN</td>\n",
       "      <td>NaN</td>\n",
       "      <td>-0.047836</td>\n",
       "      <td>-1</td>\n",
       "    </tr>\n",
       "    <tr>\n",
       "      <th>2005-07-07</th>\n",
       "      <td>73.150002</td>\n",
       "      <td>75.250000</td>\n",
       "      <td>71.025002</td>\n",
       "      <td>68.678818</td>\n",
       "      <td>1599086</td>\n",
       "      <td>NaN</td>\n",
       "      <td>NaN</td>\n",
       "      <td>NaN</td>\n",
       "      <td>NaN</td>\n",
       "      <td>-0.065103</td>\n",
       "      <td>-1</td>\n",
       "    </tr>\n",
       "  </tbody>\n",
       "</table>\n",
       "</div>"
      ],
      "text/plain": [
       "                 open       high        low      close   volume  rsi  adx  ma  \\\n",
       "Date                                                                            \n",
       "2005-07-01  66.875000  71.750000  66.875000  67.666206  1596814  NaN  NaN NaN   \n",
       "2005-07-04  71.000000  72.974998  71.000000  69.345947   999094  NaN  NaN NaN   \n",
       "2005-07-05  73.125000  74.974998  71.550003  69.071945  1425164  NaN  NaN NaN   \n",
       "2005-07-06  73.175003  73.875000  72.425003  69.834396   522226  NaN  NaN NaN   \n",
       "2005-07-07  73.150002  75.250000  71.025002  68.678818  1599086  NaN  NaN NaN   \n",
       "\n",
       "            corr  cc_returns  direction  \n",
       "Date                                     \n",
       "2005-07-01   NaN    0.011693          1  \n",
       "2005-07-04   NaN   -0.023852         -1  \n",
       "2005-07-05   NaN   -0.058679         -1  \n",
       "2005-07-06   NaN   -0.047836         -1  \n",
       "2005-07-07   NaN   -0.065103         -1  "
      ]
     },
     "execution_count": 174,
     "metadata": {},
     "output_type": "execute_result"
    }
   ],
   "source": [
    "sbi.head()"
   ]
  },
  {
   "cell_type": "code",
   "execution_count": 175,
   "id": "d5a5f554-cc88-44bc-ab4e-1be2d38d000c",
   "metadata": {},
   "outputs": [],
   "source": [
    "sbi.dropna(inplace=True)"
   ]
  },
  {
   "cell_type": "code",
   "execution_count": 176,
   "id": "3bb24d2b-2680-4570-b433-edd0dafd257c",
   "metadata": {},
   "outputs": [
    {
     "data": {
      "text/plain": [
       "open          0\n",
       "high          0\n",
       "low           0\n",
       "close         0\n",
       "volume        0\n",
       "rsi           0\n",
       "adx           0\n",
       "ma            0\n",
       "corr          0\n",
       "cc_returns    0\n",
       "direction     0\n",
       "dtype: int64"
      ]
     },
     "execution_count": 176,
     "metadata": {},
     "output_type": "execute_result"
    }
   ],
   "source": [
    "sbi.isna().sum()"
   ]
  },
  {
   "cell_type": "code",
   "execution_count": 177,
   "id": "8e44b4db-888a-4281-9c1c-3c7089b5be23",
   "metadata": {},
   "outputs": [],
   "source": [
    "from sklearn.model_selection import TimeSeriesSplit, GridSearchCV, cross_val_score, train_test_split\n",
    "from sklearn.linear_model import LogisticRegression\n",
    "from sklearn.pipeline import Pipeline\n",
    "from sklearn.preprocessing import StandardScaler"
   ]
  },
  {
   "cell_type": "code",
   "execution_count": 178,
   "id": "08be6721-6a97-4a94-adfd-2a2ec4250d13",
   "metadata": {},
   "outputs": [],
   "source": [
    "X= sbi[['rsi','adx','ma','corr']]\n",
    "y= sbi['direction']"
   ]
  },
  {
   "cell_type": "code",
   "execution_count": 179,
   "id": "f6b1ada3-03c2-4329-9722-e7d03c8d4650",
   "metadata": {},
   "outputs": [],
   "source": [
    "X_train,X_test, y_train, y_test= train_test_split(X,y,test_size= .2,random_state=15)"
   ]
  },
  {
   "cell_type": "code",
   "execution_count": 180,
   "id": "ffd776b3-e6d0-45ba-b56e-f60817433a3d",
   "metadata": {},
   "outputs": [],
   "source": [
    "steps= [('scaler',StandardScaler()),('logreg',LogisticRegression())]\n",
    "pipeline= Pipeline(steps)"
   ]
  },
  {
   "cell_type": "code",
   "execution_count": 181,
   "id": "c3d1b7ac-91f8-4b9b-aa91-3d07640d683b",
   "metadata": {},
   "outputs": [],
   "source": [
    "# Define the hyperparameter search space\n",
    "parameters = {\n",
    "    'logreg__C': [0.1, 1.0, 10.0],\n",
    "    'logreg__penalty': ['l1', 'l2'],\n",
    "    'logreg__solver': ['liblinear', 'lbfgs', 'saga']\n",
    "}"
   ]
  },
  {
   "cell_type": "code",
   "execution_count": 182,
   "id": "2e6bbdc0-c48d-4912-a769-3e82ec10e354",
   "metadata": {},
   "outputs": [],
   "source": [
    "model= GridSearchCV(pipeline, parameters, cv= TimeSeriesSplit(n_splits=5))"
   ]
  },
  {
   "cell_type": "code",
   "execution_count": 183,
   "id": "8e858354-7d19-433c-b745-0458407b8900",
   "metadata": {},
   "outputs": [
    {
     "data": {
      "text/plain": [
       "GridSearchCV(cv=TimeSeriesSplit(gap=0, max_train_size=None, n_splits=5, test_size=None),\n",
       "             estimator=Pipeline(steps=[('scaler', StandardScaler()),\n",
       "                                       ('logreg', LogisticRegression())]),\n",
       "             param_grid={'logreg__C': [0.1, 1.0, 10.0],\n",
       "                         'logreg__penalty': ['l1', 'l2'],\n",
       "                         'logreg__solver': ['liblinear', 'lbfgs', 'saga']})"
      ]
     },
     "execution_count": 183,
     "metadata": {},
     "output_type": "execute_result"
    }
   ],
   "source": [
    "model.fit(X_train,y_train)"
   ]
  },
  {
   "cell_type": "code",
   "execution_count": 184,
   "id": "911c213b-00ae-4399-b4b8-689a7eb89ee1",
   "metadata": {},
   "outputs": [
    {
     "name": "stdout",
     "output_type": "stream",
     "text": [
      "{'logreg__C': 0.1, 'logreg__penalty': 'l1', 'logreg__solver': 'liblinear'}\n"
     ]
    }
   ],
   "source": [
    "hyperparameters= model.best_params_\n",
    "print(hyperparameters)"
   ]
  },
  {
   "cell_type": "code",
   "execution_count": 185,
   "id": "d58a6146-b7cc-4727-a37f-5b74fabe8b43",
   "metadata": {},
   "outputs": [
    {
     "data": {
      "text/plain": [
       "0.8494887525562372"
      ]
     },
     "execution_count": 185,
     "metadata": {},
     "output_type": "execute_result"
    }
   ],
   "source": [
    "model.best_score_"
   ]
  },
  {
   "cell_type": "code",
   "execution_count": 186,
   "id": "610ea96e-ebef-439b-ad6d-8b36f03de3bb",
   "metadata": {},
   "outputs": [],
   "source": [
    "final_model= LogisticRegression(C= hyperparameters['logreg__C'],  penalty= hyperparameters['logreg__penalty'], solver= hyperparameters['logreg__solver'])"
   ]
  },
  {
   "cell_type": "code",
   "execution_count": 187,
   "id": "54568eec-d49d-4e1e-98a0-7a2014d3deff",
   "metadata": {},
   "outputs": [
    {
     "data": {
      "text/plain": [
       "LogisticRegression(C=0.1, penalty='l1', solver='liblinear')"
      ]
     },
     "execution_count": 187,
     "metadata": {},
     "output_type": "execute_result"
    }
   ],
   "source": [
    "final_model.fit(X_train,y_train)"
   ]
  },
  {
   "cell_type": "code",
   "execution_count": 188,
   "id": "d81ee99b-4b99-4ffb-a769-6e41a46a6e8e",
   "metadata": {},
   "outputs": [],
   "source": [
    "y_pred=final_model.predict(X_test)"
   ]
  },
  {
   "cell_type": "code",
   "execution_count": 189,
   "id": "bad98549-3c73-45b6-b5ef-f3a13792ba87",
   "metadata": {},
   "outputs": [],
   "source": [
    "from sklearn.metrics import accuracy_score, confusion_matrix, plot_confusion_matrix, roc_curve, roc_auc_score"
   ]
  },
  {
   "cell_type": "code",
   "execution_count": 190,
   "id": "e84fc86d-3a65-4eb4-ac8c-8f97769a291c",
   "metadata": {},
   "outputs": [
    {
     "name": "stdout",
     "output_type": "stream",
     "text": [
      "0.8065395095367848\n"
     ]
    }
   ],
   "source": [
    "accuracy= accuracy_score(y_test, y_pred)\n",
    "print(accuracy)"
   ]
  },
  {
   "cell_type": "code",
   "execution_count": 191,
   "id": "8ea428ab-faeb-466e-a700-abc963fb1d02",
   "metadata": {},
   "outputs": [
    {
     "data": {
      "text/plain": [
       "<sklearn.metrics._plot.confusion_matrix.ConfusionMatrixDisplay at 0x1ed0affdfa0>"
      ]
     },
     "execution_count": 191,
     "metadata": {},
     "output_type": "execute_result"
    },
    {
     "data": {
      "image/png": "[encoded data removed]",
      "text/plain": [
       "<Figure size 432x288 with 2 Axes>"
      ]
     },
     "metadata": {
      "needs_background": "light"
     },
     "output_type": "display_data"
    }
   ],
   "source": [
    "plot_confusion_matrix(final_model,X_test,y_test)"
   ]
  },
  {
   "cell_type": "code",
   "execution_count": 153,
   "id": "3a126905-bb4a-4e7a-b75c-c031d51ba7fb",
   "metadata": {},
   "outputs": [
    {
     "data": {
      "text/html": [
       "<div>\n",
       "<style scoped>\n",
       "    .dataframe tbody tr th:only-of-type {\n",
       "        vertical-align: middle;\n",
       "    }\n",
       "\n",
       "    .dataframe tbody tr th {\n",
       "        vertical-align: top;\n",
       "    }\n",
       "\n",
       "    .dataframe thead th {\n",
       "        text-align: right;\n",
       "    }\n",
       "</style>\n",
       "<table border=\"1\" class=\"dataframe\">\n",
       "  <thead>\n",
       "    <tr style=\"text-align: right;\">\n",
       "      <th></th>\n",
       "      <th>open</th>\n",
       "      <th>high</th>\n",
       "      <th>low</th>\n",
       "      <th>close</th>\n",
       "      <th>volume</th>\n",
       "      <th>rsi</th>\n",
       "      <th>adx</th>\n",
       "      <th>ma</th>\n",
       "      <th>corr</th>\n",
       "      <th>cc_returns</th>\n",
       "      <th>direction</th>\n",
       "    </tr>\n",
       "    <tr>\n",
       "      <th>Date</th>\n",
       "      <th></th>\n",
       "      <th></th>\n",
       "      <th></th>\n",
       "      <th></th>\n",
       "      <th></th>\n",
       "      <th></th>\n",
       "      <th></th>\n",
       "      <th></th>\n",
       "      <th></th>\n",
       "      <th></th>\n",
       "      <th></th>\n",
       "    </tr>\n",
       "  </thead>\n",
       "  <tbody>\n",
       "    <tr>\n",
       "      <th>2016-06-17</th>\n",
       "      <td>216.750000</td>\n",
       "      <td>217.500000</td>\n",
       "      <td>211.600006</td>\n",
       "      <td>202.446945</td>\n",
       "      <td>26486677</td>\n",
       "      <td>70.983453</td>\n",
       "      <td>50.525940</td>\n",
       "      <td>198.700574</td>\n",
       "      <td>0.475981</td>\n",
       "      <td>-0.070651</td>\n",
       "      <td>-1</td>\n",
       "    </tr>\n",
       "    <tr>\n",
       "      <th>2016-06-20</th>\n",
       "      <td>208.000000</td>\n",
       "      <td>216.699997</td>\n",
       "      <td>207.899994</td>\n",
       "      <td>204.770645</td>\n",
       "      <td>32633757</td>\n",
       "      <td>64.316199</td>\n",
       "      <td>49.744876</td>\n",
       "      <td>200.123248</td>\n",
       "      <td>0.423327</td>\n",
       "      <td>-0.015771</td>\n",
       "      <td>-1</td>\n",
       "    </tr>\n",
       "    <tr>\n",
       "      <th>2016-06-21</th>\n",
       "      <td>215.000000</td>\n",
       "      <td>217.500000</td>\n",
       "      <td>213.149994</td>\n",
       "      <td>202.968597</td>\n",
       "      <td>18960306</td>\n",
       "      <td>67.715223</td>\n",
       "      <td>45.627122</td>\n",
       "      <td>202.797879</td>\n",
       "      <td>0.290510</td>\n",
       "      <td>-0.059277</td>\n",
       "      <td>-1</td>\n",
       "    </tr>\n",
       "    <tr>\n",
       "      <th>2016-06-22</th>\n",
       "      <td>214.000000</td>\n",
       "      <td>215.250000</td>\n",
       "      <td>211.449997</td>\n",
       "      <td>201.925308</td>\n",
       "      <td>16395548</td>\n",
       "      <td>62.342433</td>\n",
       "      <td>42.552710</td>\n",
       "      <td>203.992929</td>\n",
       "      <td>-0.524033</td>\n",
       "      <td>-0.059798</td>\n",
       "      <td>-1</td>\n",
       "    </tr>\n",
       "    <tr>\n",
       "      <th>2016-06-23</th>\n",
       "      <td>213.000000</td>\n",
       "      <td>218.000000</td>\n",
       "      <td>212.750000</td>\n",
       "      <td>206.335602</td>\n",
       "      <td>20666649</td>\n",
       "      <td>59.171331</td>\n",
       "      <td>38.307628</td>\n",
       "      <td>203.395404</td>\n",
       "      <td>-0.631650</td>\n",
       "      <td>-0.032299</td>\n",
       "      <td>-1</td>\n",
       "    </tr>\n",
       "    <tr>\n",
       "      <th>...</th>\n",
       "      <td>...</td>\n",
       "      <td>...</td>\n",
       "      <td>...</td>\n",
       "      <td>...</td>\n",
       "      <td>...</td>\n",
       "      <td>...</td>\n",
       "      <td>...</td>\n",
       "      <td>...</td>\n",
       "      <td>...</td>\n",
       "      <td>...</td>\n",
       "      <td>...</td>\n",
       "    </tr>\n",
       "    <tr>\n",
       "      <th>2023-05-29</th>\n",
       "      <td>590.000000</td>\n",
       "      <td>596.400024</td>\n",
       "      <td>588.049988</td>\n",
       "      <td>583.658020</td>\n",
       "      <td>18432231</td>\n",
       "      <td>65.690553</td>\n",
       "      <td>22.509370</td>\n",
       "      <td>570.650806</td>\n",
       "      <td>-0.440354</td>\n",
       "      <td>-0.010866</td>\n",
       "      <td>-1</td>\n",
       "    </tr>\n",
       "    <tr>\n",
       "      <th>2023-05-30</th>\n",
       "      <td>595.000000</td>\n",
       "      <td>595.500000</td>\n",
       "      <td>591.500000</td>\n",
       "      <td>581.500000</td>\n",
       "      <td>15031640</td>\n",
       "      <td>75.614847</td>\n",
       "      <td>26.396177</td>\n",
       "      <td>574.152747</td>\n",
       "      <td>0.897082</td>\n",
       "      <td>-0.023216</td>\n",
       "      <td>-1</td>\n",
       "    </tr>\n",
       "    <tr>\n",
       "      <th>2023-05-31</th>\n",
       "      <td>583.799988</td>\n",
       "      <td>584.799988</td>\n",
       "      <td>577.500000</td>\n",
       "      <td>579.849976</td>\n",
       "      <td>28797643</td>\n",
       "      <td>69.852657</td>\n",
       "      <td>29.727726</td>\n",
       "      <td>576.350061</td>\n",
       "      <td>0.830970</td>\n",
       "      <td>-0.006812</td>\n",
       "      <td>-1</td>\n",
       "    </tr>\n",
       "    <tr>\n",
       "      <th>2023-06-01</th>\n",
       "      <td>581.799988</td>\n",
       "      <td>586.400024</td>\n",
       "      <td>581.000000</td>\n",
       "      <td>582.750000</td>\n",
       "      <td>17820226</td>\n",
       "      <td>65.406516</td>\n",
       "      <td>26.922959</td>\n",
       "      <td>578.001550</td>\n",
       "      <td>0.680193</td>\n",
       "      <td>0.001630</td>\n",
       "      <td>1</td>\n",
       "    </tr>\n",
       "    <tr>\n",
       "      <th>2023-06-02</th>\n",
       "      <td>584.700012</td>\n",
       "      <td>588.900024</td>\n",
       "      <td>583.000000</td>\n",
       "      <td>587.200012</td>\n",
       "      <td>11322729</td>\n",
       "      <td>69.400226</td>\n",
       "      <td>23.723465</td>\n",
       "      <td>580.517517</td>\n",
       "      <td>0.514070</td>\n",
       "      <td>0.004257</td>\n",
       "      <td>1</td>\n",
       "    </tr>\n",
       "  </tbody>\n",
       "</table>\n",
       "<p>1720 rows × 11 columns</p>\n",
       "</div>"
      ],
      "text/plain": [
       "                  open        high         low       close    volume  \\\n",
       "Date                                                                   \n",
       "2016-06-17  216.750000  217.500000  211.600006  202.446945  26486677   \n",
       "2016-06-20  208.000000  216.699997  207.899994  204.770645  32633757   \n",
       "2016-06-21  215.000000  217.500000  213.149994  202.968597  18960306   \n",
       "2016-06-22  214.000000  215.250000  211.449997  201.925308  16395548   \n",
       "2016-06-23  213.000000  218.000000  212.750000  206.335602  20666649   \n",
       "...                ...         ...         ...         ...       ...   \n",
       "2023-05-29  590.000000  596.400024  588.049988  583.658020  18432231   \n",
       "2023-05-30  595.000000  595.500000  591.500000  581.500000  15031640   \n",
       "2023-05-31  583.799988  584.799988  577.500000  579.849976  28797643   \n",
       "2023-06-01  581.799988  586.400024  581.000000  582.750000  17820226   \n",
       "2023-06-02  584.700012  588.900024  583.000000  587.200012  11322729   \n",
       "\n",
       "                  rsi        adx          ma      corr  cc_returns  direction  \n",
       "Date                                                                           \n",
       "2016-06-17  70.983453  50.525940  198.700574  0.475981   -0.070651         -1  \n",
       "2016-06-20  64.316199  49.744876  200.123248  0.423327   -0.015771         -1  \n",
       "2016-06-21  67.715223  45.627122  202.797879  0.290510   -0.059277         -1  \n",
       "2016-06-22  62.342433  42.552710  203.992929 -0.524033   -0.059798         -1  \n",
       "2016-06-23  59.171331  38.307628  203.395404 -0.631650   -0.032299         -1  \n",
       "...               ...        ...         ...       ...         ...        ...  \n",
       "2023-05-29  65.690553  22.509370  570.650806 -0.440354   -0.010866         -1  \n",
       "2023-05-30  75.614847  26.396177  574.152747  0.897082   -0.023216         -1  \n",
       "2023-05-31  69.852657  29.727726  576.350061  0.830970   -0.006812         -1  \n",
       "2023-06-01  65.406516  26.922959  578.001550  0.680193    0.001630          1  \n",
       "2023-06-02  69.400226  23.723465  580.517517  0.514070    0.004257          1  \n",
       "\n",
       "[1720 rows x 11 columns]"
      ]
     },
     "execution_count": 153,
     "metadata": {},
     "output_type": "execute_result"
    }
   ],
   "source": [
    "sbi"
   ]
  },
  {
   "cell_type": "code",
   "execution_count": 192,
   "id": "f5f0f226-77db-4190-946e-eda3968b3dee",
   "metadata": {},
   "outputs": [
    {
     "data": {
      "text/plain": [
       "-1    3071\n",
       " 1     598\n",
       "Name: direction, dtype: int64"
      ]
     },
     "execution_count": 192,
     "metadata": {},
     "output_type": "execute_result"
    }
   ],
   "source": [
    "sbi.direction.value_counts()"
   ]
  },
  {
   "cell_type": "code",
   "execution_count": 193,
   "id": "8ce70873-46ee-41c4-845c-7d6f74f4b7d5",
   "metadata": {},
   "outputs": [
    {
     "data": {
      "text/plain": [
       "-1    592\n",
       " 1    142\n",
       "Name: direction, dtype: int64"
      ]
     },
     "execution_count": 193,
     "metadata": {},
     "output_type": "execute_result"
    }
   ],
   "source": [
    "y_test.value_counts()"
   ]
  },
  {
   "cell_type": "code",
   "execution_count": 194,
   "id": "2b690228-d074-4223-837a-4f3257dd47fb",
   "metadata": {},
   "outputs": [
    {
     "data": {
      "text/plain": [
       "<AxesSubplot:xlabel='Date'>"
      ]
     },
     "execution_count": 194,
     "metadata": {},
     "output_type": "execute_result"
    },
    {
     "data": {
      "image/png": "[encoded data removed]",
      "text/plain": [
       "<Figure size 1080x648 with 1 Axes>"
      ]
     },
     "metadata": {
      "needs_background": "light"
     },
     "output_type": "display_data"
    }
   ],
   "source": [
    "sbi.cc_returns.plot(figsize=(15,9), grid=True)"
   ]
  },
  {
   "cell_type": "code",
   "execution_count": null,
   "id": "04761351-b651-4861-be2c-380a85d45213",
   "metadata": {},
   "outputs": [],
   "source": []
  }
 ],
 "metadata": {
  "kernelspec": {
   "display_name": "Python 3 (ipykernel)",
   "language": "python",
   "name": "python3"
  },
  "language_info": {
   "codemirror_mode": {
    "name": "ipython",
    "version": 3
   },
   "file_extension": ".py",
   "mimetype": "text/x-python",
   "name": "python",
   "nbconvert_exporter": "python",
   "pygments_lexer": "ipython3",
   "version": "3.9.12"
  }
 },
 "nbformat": 4,
 "nbformat_minor": 5
}
